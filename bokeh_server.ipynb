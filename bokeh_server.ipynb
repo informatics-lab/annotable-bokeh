{
 "cells": [
  {
   "cell_type": "markdown",
   "metadata": {},
   "source": [
    "# Host Annotable web app as Bokeh server\n",
    "\n",
    "Make a bokeh plot in a Jupyter notebook and serve it up to a remote browser.\n",
    "\n",
    "ToDo:\n",
    "----\n",
    "- Make a basic `bokeh` plot servable\n",
    "- Make a `holoviews` plot servable\n",
    "- Make a `hvplot` with gridded data and a pen servable\n",
    "- Test whether doodles are synched back into the Notebook"
   ]
  },
  {
   "cell_type": "markdown",
   "metadata": {},
   "source": [
    "## Setup"
   ]
  },
  {
   "cell_type": "markdown",
   "metadata": {},
   "source": [
    "The following requirements are needed for serving up Bokeh plots from JupyterHub\n",
    "\n",
    "`$ pip install nbserverproxy && jupyter serverextension enable --py nbserverproxy`"
   ]
  },
  {
   "cell_type": "markdown",
   "metadata": {},
   "source": [
    "## Basic `bokeh` plot served from Jupyter Lab"
   ]
  },
  {
   "cell_type": "code",
   "execution_count": null,
   "metadata": {},
   "outputs": [],
   "source": []
  },
  {
   "cell_type": "code",
   "execution_count": null,
   "metadata": {},
   "outputs": [],
   "source": []
  },
  {
   "cell_type": "markdown",
   "metadata": {},
   "source": [
    "## `holoviews` plot served from Jupyter Lab"
   ]
  },
  {
   "cell_type": "code",
   "execution_count": null,
   "metadata": {},
   "outputs": [],
   "source": [
    "import hvplot as hplt\n",
    "import xarray as xr\n",
    "import hvplot.xarray\n",
    "import geoviews as gv\n",
    "import cartopy.crs as ccrs\n",
    "import cartopy.feature as cf\n",
    "from holoviews.streams import FreehandDraw"
   ]
  },
  {
   "cell_type": "code",
   "execution_count": null,
   "metadata": {},
   "outputs": [],
   "source": [
    "air_temp = xr.tutorial.open_dataset('air_temperature').load().air.isel(time=0)"
   ]
  },
  {
   "cell_type": "code",
   "execution_count": null,
   "metadata": {},
   "outputs": [],
   "source": [
    "coastlines = gv.feature.coastline\n",
    "\n",
    "proj = ccrs.Orthographic(-90, 30)\n",
    "\n",
    "air_plot = air_temp.hvplot.quadmesh(\n",
    "   'lon', 'lat', projection=proj, project=True, global_extent=True,\n",
    "    width=600, height=540, cmap='viridis', rasterize=True, dynamic=False)"
   ]
  },
  {
   "cell_type": "code",
   "execution_count": null,
   "metadata": {},
   "outputs": [],
   "source": [
    "warm_front = gv.Path([]).opts(color='red', line_width=9)\n",
    "warm_front_pen = FreehandDraw(source=warm_front)\n",
    "\n",
    "warning_orange = gv.Polygons([]).opts(line_color='orange', line_width=9, \n",
    "                                      fill_color='orange', fill_alpha=0.6)\n",
    "warning_orange_tool = FreehandDraw(source=warning_orange)"
   ]
  },
  {
   "cell_type": "code",
   "execution_count": null,
   "metadata": {},
   "outputs": [],
   "source": [
    "plot = air_plot * coastlines * warm_front * warning_orange"
   ]
  },
  {
   "cell_type": "code",
   "execution_count": null,
   "metadata": {},
   "outputs": [],
   "source": [
    "doc = hv.renderer('bokeh').server_doc(plot)\n",
    "doc.title = 'Annotable Bokeh App - From Jupyter Notebook'"
   ]
  },
  {
   "cell_type": "markdown",
   "metadata": {},
   "source": [
    "To run this notebook as a Bokeh app, run the following in a terminal:\n",
    "\n",
    "`$ bokeh serve --show bokeh_server.ipynb`"
   ]
  }
 ],
 "metadata": {
  "kernelspec": {
   "display_name": "Python [conda env:annotable-bokeh]",
   "language": "python",
   "name": "conda-env-annotable-bokeh-py"
  },
  "language_info": {
   "codemirror_mode": {
    "name": "ipython",
    "version": 3
   },
   "file_extension": ".py",
   "mimetype": "text/x-python",
   "name": "python",
   "nbconvert_exporter": "python",
   "pygments_lexer": "ipython3",
   "version": "3.6.7"
  }
 },
 "nbformat": 4,
 "nbformat_minor": 2
}
