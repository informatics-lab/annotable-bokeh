{
 "cells": [
  {
   "cell_type": "markdown",
   "metadata": {},
   "source": [
    "# Host Annotable web app as Bokeh server\n",
    "\n",
    "Make a bokeh plot in a Jupyter notebook and serve it up to a remote browser.\n",
    "\n",
    "ToDo:\n",
    "----\n",
    "- Make a basic `bokeh` plot servable\n",
    "- Make a `holoviews` plot servable\n",
    "- Make a `hvplot` with gridded data and a pen servable\n",
    "- Test whether doodles are synched back into the Notebook"
   ]
  },
  {
   "cell_type": "markdown",
   "metadata": {},
   "source": [
    "## Setup"
   ]
  },
  {
   "cell_type": "markdown",
   "metadata": {},
   "source": [
    "The following requirements are needed for serving up Bokeh plots from JupyterHub\n",
    "\n",
    "`$ pip install nbserverproxy && jupyter serverextension enable --py nbserverproxy`"
   ]
  },
  {
   "cell_type": "markdown",
   "metadata": {},
   "source": [
    "## Basic `bokeh` plot served from Jupyter Lab"
   ]
  },
  {
   "cell_type": "code",
   "execution_count": null,
   "metadata": {},
   "outputs": [],
   "source": []
  },
  {
   "cell_type": "code",
   "execution_count": null,
   "metadata": {},
   "outputs": [],
   "source": []
  },
  {
   "cell_type": "markdown",
   "metadata": {},
   "source": [
    "## `holoviews` plot served from Jupyter Lab"
   ]
  },
  {
   "cell_type": "code",
   "execution_count": null,
   "metadata": {},
   "outputs": [],
   "source": [
    "import hvplot as hplt\n",
    "import xarray as xr\n",
    "import hvplot.xarray\n",
    "import holoviews as hv\n",
    "import geoviews as gv\n",
    "import cartopy.crs as ccrs\n",
    "import cartopy.feature as cf\n",
    "from holoviews.streams import FreehandDraw"
   ]
  },
  {
   "cell_type": "code",
   "execution_count": null,
   "metadata": {},
   "outputs": [],
   "source": [
    "air_temp = xr.tutorial.open_dataset('air_temperature').load().air.isel(time=0)\n",
    "print(\"Loaded dataset\")"
   ]
  },
  {
   "cell_type": "code",
   "execution_count": null,
   "metadata": {},
   "outputs": [],
   "source": [
    "coastlines = gv.feature.coastline\n",
    "\n",
    "proj = ccrs.Orthographic(-90, 30)\n",
    "\n",
    "air_plot = air_temp.hvplot.quadmesh(\n",
    "   'lon', 'lat', projection=proj, project=True, global_extent=True,\n",
    "    width=600, height=540, cmap='viridis', rasterize=True, dynamic=False)\n",
    "\n",
    "print(\"Made plot elements\")"
   ]
  },
  {
   "cell_type": "code",
   "execution_count": null,
   "metadata": {},
   "outputs": [],
   "source": [
    "warm_front = gv.Path([]).opts(color='red', line_width=9)\n",
    "warm_front_pen = FreehandDraw(source=warm_front)\n",
    "\n",
    "warning_orange = gv.Polygons([]).opts(line_color='orange', line_width=9, \n",
    "                                      fill_color='orange', fill_alpha=0.6)\n",
    "warning_orange_tool = FreehandDraw(source=warning_orange)\n",
    "\n",
    "print(\"Made pen elements\")"
   ]
  },
  {
   "cell_type": "code",
   "execution_count": null,
   "metadata": {},
   "outputs": [],
   "source": [
    "plot = air_plot * coastlines * warm_front * warning_orange\n",
    "\n",
    "print(\"Combined elements\")"
   ]
  },
  {
   "cell_type": "markdown",
   "metadata": {},
   "source": [
    "## Deploy Jupyter notebook as `bokeh.server`"
   ]
  },
  {
   "cell_type": "code",
   "execution_count": null,
   "metadata": {},
   "outputs": [],
   "source": [
    "doc = hv.renderer('bokeh').server_doc(plot)\n",
    "doc.title = 'Annotable Bokeh App - From Jupyter Notebook'\n",
    "\n",
    "print(\"Serving document\")"
   ]
  },
  {
   "cell_type": "markdown",
   "metadata": {},
   "source": [
    "To run this notebook as a Bokeh app, run the following in a terminal:\n",
    "\n",
    "`$ bokeh serve --show bokeh_server.ipynb`"
   ]
  },
  {
   "cell_type": "markdown",
   "metadata": {},
   "source": [
    "## Deploy plot as a `bokeh.app`"
   ]
  },
  {
   "cell_type": "code",
   "execution_count": null,
   "metadata": {},
   "outputs": [],
   "source": [
    "renderer = hv.renderer('bokeh')\n",
    "print(renderer)"
   ]
  },
  {
   "cell_type": "code",
   "execution_count": null,
   "metadata": {},
   "outputs": [],
   "source": [
    "app = renderer.app(air_plot * coastlines * warm_front)\n",
    "print(app)"
   ]
  },
  {
   "cell_type": "code",
   "execution_count": null,
   "metadata": {},
   "outputs": [],
   "source": [
    "from bokeh.server.server import Server\n",
    "\n",
    "# server = Server({'/app': app}, port=0)\n",
    "server = Server({'/app': app}, port=7777, allow_websocket_origin=['pangeo.informaticslab.co.uk'])"
   ]
  },
  {
   "cell_type": "code",
   "execution_count": null,
   "metadata": {},
   "outputs": [],
   "source": [
    "server.start()\n",
    "server.show('/app')"
   ]
  },
  {
   "cell_type": "code",
   "execution_count": null,
   "metadata": {},
   "outputs": [],
   "source": [
    "warm_front_pen.element.data"
   ]
  },
  {
   "cell_type": "code",
   "execution_count": null,
   "metadata": {},
   "outputs": [],
   "source": [
    "server.stop()"
   ]
  },
  {
   "cell_type": "code",
   "execution_count": null,
   "metadata": {},
   "outputs": [],
   "source": [
    "warm_front_pen.element.data"
   ]
  },
  {
   "cell_type": "code",
   "execution_count": null,
   "metadata": {},
   "outputs": [],
   "source": [
    "warm_front_pen.element"
   ]
  },
  {
   "cell_type": "markdown",
   "metadata": {},
   "source": [
    "## Define annotable function"
   ]
  },
  {
   "cell_type": "code",
   "execution_count": null,
   "metadata": {},
   "outputs": [],
   "source": [
    "def make_annotable(plot, port=0, websocket_origin='pangeo.informaticslab.co.uk', url_path='annotable'):\n",
    "    import holoviews as hv\n",
    "    from bokeh.server.server import Server\n",
    "    import os\n",
    "    from IPython.core.display import display, HTML\n",
    "    \n",
    "    renderer = hv.renderer('bokeh')\n",
    "    app = renderer.app(plot)\n",
    "    server = Server({f'/{url_path}': app}, port=port, allow_websocket_origin=[websocket_origin])\n",
    "\n",
    "    prefix = os.environ['JUPYTERHUB_SERVICE_PREFIX']\n",
    "    url = f\"https://{websocket_origin}{prefix}proxy/{server.port}/{url_path}\"\n",
    "    display(HTML(f'<a href={url}>{url}</a>'))\n",
    "    \n",
    "    return server"
   ]
  },
  {
   "cell_type": "code",
   "execution_count": null,
   "metadata": {},
   "outputs": [],
   "source": [
    "annotable = make_annotable(plot)"
   ]
  },
  {
   "cell_type": "code",
   "execution_count": null,
   "metadata": {},
   "outputs": [],
   "source": [
    "annotable.start()"
   ]
  },
  {
   "cell_type": "code",
   "execution_count": null,
   "metadata": {},
   "outputs": [],
   "source": [
    "warm_front_pen.element()"
   ]
  },
  {
   "cell_type": "code",
   "execution_count": null,
   "metadata": {},
   "outputs": [],
   "source": [
    "warning_orange_tool.element()"
   ]
  },
  {
   "cell_type": "code",
   "execution_count": null,
   "metadata": {},
   "outputs": [],
   "source": [
    "annotable.stop()"
   ]
  }
 ],
 "metadata": {
  "kernelspec": {
   "display_name": "Python 3",
   "language": "python",
   "name": "python3"
  },
  "language_info": {
   "codemirror_mode": {
    "name": "ipython",
    "version": 3
   },
   "file_extension": ".py",
   "mimetype": "text/x-python",
   "name": "python",
   "nbconvert_exporter": "python",
   "pygments_lexer": "ipython3",
   "version": "3.7.2"
  }
 },
 "nbformat": 4,
 "nbformat_minor": 2
}
