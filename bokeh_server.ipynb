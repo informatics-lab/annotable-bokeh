{
 "cells": [
  {
   "cell_type": "markdown",
   "metadata": {},
   "source": [
    "# Host Annotable web app as Bokeh server\n",
    "\n",
    "Make a bokeh plot in a Jupyter notebook and serve it up to a remote browser.\n",
    "\n",
    "ToDo:\n",
    "----\n",
    "- Make a basic `bokeh` plot servable\n",
    "- Make a `holoviews` plot servable\n",
    "- Make a `hvplot` with gridded data and a pen servable\n",
    "- Test whether doodles are synched back into the Notebook"
   ]
  },
  {
   "cell_type": "markdown",
   "metadata": {},
   "source": [
    "## Basic `bokeh` plot served from Jupyter Lab"
   ]
  },
  {
   "cell_type": "code",
   "execution_count": null,
   "metadata": {},
   "outputs": [],
   "source": []
  }
 ],
 "metadata": {
  "kernelspec": {
   "display_name": "Python [conda env:annotable-bokeh]",
   "language": "python",
   "name": "conda-env-annotable-bokeh-py"
  },
  "language_info": {
   "codemirror_mode": {
    "name": "ipython",
    "version": 3
   },
   "file_extension": ".py",
   "mimetype": "text/x-python",
   "name": "python",
   "nbconvert_exporter": "python",
   "pygments_lexer": "ipython3",
   "version": "3.6.7"
  }
 },
 "nbformat": 4,
 "nbformat_minor": 2
}
