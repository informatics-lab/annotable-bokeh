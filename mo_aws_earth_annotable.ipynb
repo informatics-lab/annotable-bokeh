{
 "cells": [
  {
   "cell_type": "markdown",
   "metadata": {},
   "source": [
    "# UKV forecast data to interactive web app with annotation tools"
   ]
  },
  {
   "cell_type": "markdown",
   "metadata": {},
   "source": [
    "## Setup"
   ]
  },
  {
   "cell_type": "code",
   "execution_count": null,
   "metadata": {},
   "outputs": [],
   "source": [
    "import intake\n",
    "import holoviews as hv\n",
    "import geoviews as gv\n",
    "import cartopy.crs as ccrs\n",
    "import cartopy.feature as cf\n",
    "hv.extension('bokeh')"
   ]
  },
  {
   "cell_type": "markdown",
   "metadata": {},
   "source": [
    "## Load data using `intake` catalog of Met Office data"
   ]
  },
  {
   "cell_type": "code",
   "execution_count": null,
   "metadata": {},
   "outputs": [],
   "source": [
    "hypercube = intake.cat.mo_aws_earth.ukv.air_pressure_at_sea_level.read()\n",
    "hypercube"
   ]
  },
  {
   "cell_type": "code",
   "execution_count": null,
   "metadata": {},
   "outputs": [],
   "source": [
    "cube = hypercube[0,0,...]\n",
    "cube"
   ]
  },
  {
   "cell_type": "markdown",
   "metadata": {},
   "source": [
    "#### Plot with Matplotlib, as most Met Office scientists will be familiar with."
   ]
  },
  {
   "cell_type": "code",
   "execution_count": null,
   "metadata": {},
   "outputs": [],
   "source": [
    "%matplotlib inline\n",
    "import matplotlib.pyplot as plt\n",
    "import iris.quickplot as qplt\n",
    "\n",
    "# qplt.pcolormesh(cube)\n",
    "qplt.contourf(cube)\n",
    "plt.gca().coastlines('50m')\n",
    "plt.gcf().set_size_inches(12,8)"
   ]
  },
  {
   "cell_type": "markdown",
   "metadata": {},
   "source": [
    "## Use `geoviews` to create `bokeh` objects"
   ]
  },
  {
   "cell_type": "code",
   "execution_count": null,
   "metadata": {},
   "outputs": [],
   "source": [
    "ds_gv = gv.Dataset(cube, ['projection_x_coordinate','projection_y_coordinate'])"
   ]
  },
  {
   "cell_type": "code",
   "execution_count": null,
   "metadata": {},
   "outputs": [],
   "source": [
    "air_pressure_plot = gv.FilledContours(ds_gv).opts(line_color=None, line_width=0)"
   ]
  },
  {
   "cell_type": "code",
   "execution_count": null,
   "metadata": {},
   "outputs": [],
   "source": [
    "coastlines = gv.feature.coastline\n",
    "coastlines"
   ]
  },
  {
   "cell_type": "code",
   "execution_count": null,
   "metadata": {},
   "outputs": [],
   "source": [
    "air_pressure_plot.opts(projection=ccrs.Orthographic(0, 30), colorbar=False, global_extent=False) * coastlines"
   ]
  },
  {
   "cell_type": "code",
   "execution_count": null,
   "metadata": {},
   "outputs": [],
   "source": [
    "air_pressure_plot.opts(projection=ccrs.GOOGLE_MERCATOR, global_extent=False, apply_extents=True) * coastlines"
   ]
  },
  {
   "cell_type": "markdown",
   "metadata": {},
   "source": [
    "## Add `bokeh` annotation tools"
   ]
  },
  {
   "cell_type": "code",
   "execution_count": null,
   "metadata": {},
   "outputs": [],
   "source": [
    "from holoviews.streams import FreehandDraw\n",
    "\n",
    "warm_front = gv.Path([]).opts(color='red', line_width=9)\n",
    "warm_front_pen = FreehandDraw(source=warm_front)\n",
    "\n",
    "warning_orange = gv.Polygons([]).opts(line_color='orange', line_width=9, \n",
    "                                      fill_color='orange', fill_alpha=0.6)\n",
    "warning_orange_tool = FreehandDraw(source=warning_orange)"
   ]
  },
  {
   "cell_type": "code",
   "execution_count": null,
   "metadata": {},
   "outputs": [],
   "source": [
    "plot = air_pressure_plot.opts(projection=ccrs.GOOGLE_MERCATOR, global_extent=False) * coastlines * warm_front * warning_orange"
   ]
  },
  {
   "cell_type": "code",
   "execution_count": null,
   "metadata": {},
   "outputs": [],
   "source": [
    "plot.opts(width=800, height=720)"
   ]
  },
  {
   "cell_type": "markdown",
   "metadata": {},
   "source": [
    "## Serve up plot as an app"
   ]
  },
  {
   "cell_type": "code",
   "execution_count": null,
   "metadata": {},
   "outputs": [],
   "source": [
    "def make_annotable(plot, port=0, websocket_origin='pangeo.informaticslab.co.uk', url_path='annotable'):\n",
    "    import holoviews as hv\n",
    "    from bokeh.server.server import Server\n",
    "    import os\n",
    "    from IPython.core.display import display, HTML\n",
    "    import ipywidgets as widgets\n",
    "    \n",
    "    renderer = hv.renderer('bokeh')\n",
    "    app = renderer.app(plot)\n",
    "    server = Server({f'/{url_path}': app}, port=port, allow_websocket_origin=[websocket_origin])\n",
    "    \n",
    "    server.start()\n",
    "    \n",
    "    prefix = os.environ['JUPYTERHUB_SERVICE_PREFIX']\n",
    "    url = f\"https://{websocket_origin}{prefix}proxy/{server.port}/{url_path}\"\n",
    "    display(HTML(f'<a href={url}>{url}</a>'))\n",
    "    \n",
    "    stop_button = widgets.Button(description=\"Stop Annotable\")\n",
    "    stop_button.on_click(lambda b: server.stop())\n",
    "    display(stop_button)\n",
    "    \n",
    "    return server"
   ]
  },
  {
   "cell_type": "code",
   "execution_count": null,
   "metadata": {},
   "outputs": [],
   "source": [
    "annotable = make_annotable(plot)"
   ]
  },
  {
   "cell_type": "markdown",
   "metadata": {},
   "source": [
    "#### Access annotations"
   ]
  },
  {
   "cell_type": "code",
   "execution_count": null,
   "metadata": {},
   "outputs": [],
   "source": [
    "warm_front_pen.element"
   ]
  },
  {
   "cell_type": "code",
   "execution_count": null,
   "metadata": {},
   "outputs": [],
   "source": [
    "warning_orange_tool.element"
   ]
  },
  {
   "cell_type": "code",
   "execution_count": null,
   "metadata": {},
   "outputs": [],
   "source": []
  }
 ],
 "metadata": {
  "kernelspec": {
   "display_name": "Python [conda env:annotable-bokeh]",
   "language": "python",
   "name": "conda-env-annotable-bokeh-py"
  },
  "language_info": {
   "codemirror_mode": {
    "name": "ipython",
    "version": 3
   },
   "file_extension": ".py",
   "mimetype": "text/x-python",
   "name": "python",
   "nbconvert_exporter": "python",
   "pygments_lexer": "ipython3",
   "version": "3.6.7"
  }
 },
 "nbformat": 4,
 "nbformat_minor": 2
}
